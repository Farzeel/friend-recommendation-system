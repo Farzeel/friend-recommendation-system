{
 "cells": [
  {
   "cell_type": "markdown",
   "id": "4f68d657-9403-4015-95a3-dcd973b93d2a",
   "metadata": {},
   "source": [
    "**Analyze a data dump of code-Book users using Pure Python** "
   ]
  },
  {
   "cell_type": "code",
   "execution_count": 1,
   "id": "bcf1c0f8-2f76-4c39-91c2-053d28463bce",
   "metadata": {},
   "outputs": [],
   "source": [
    "import json"
   ]
  },
  {
   "cell_type": "code",
   "execution_count": 2,
   "id": "bd840cea-4b03-4172-90dc-41cdbabd7e29",
   "metadata": {},
   "outputs": [],
   "source": [
    "# function to load data\n",
    "def load_data(filename):\n",
    "    with open(filename , 'r') as f:\n",
    "        data = json.load(f)\n",
    "    return data"
   ]
  },
  {
   "cell_type": "code",
   "execution_count": 3,
   "id": "16532b08-3a27-4d3d-a9ec-926d708e183e",
   "metadata": {},
   "outputs": [
    {
     "name": "stdout",
     "output_type": "stream",
     "text": [
      "{'users': [{'id': 1, 'name': 'Amit', 'friends': [2, 3, 4, 5, 6], 'liked_pages': [101, 102]}, {'id': 2, 'name': 'Priya', 'friends': [1, 3, 5, 6, 7], 'liked_pages': [102, 103]}, {'id': 3, 'name': 'Rahul', 'friends': [1, 2, 4, 7, 8], 'liked_pages': [101, 103]}, {'id': 4, 'name': 'Sara', 'friends': [1, 3, 6, 8, 9], 'liked_pages': [104]}, {'id': 5, 'name': 'Neha', 'friends': [1, 2, 6, 10, 11], 'liked_pages': [102, 105]}, {'id': 6, 'name': 'Vikram', 'friends': [1, 2, 4, 5, 12], 'liked_pages': [106]}, {'id': 7, 'name': 'Kunal', 'friends': [2, 3, 8, 9, 13], 'liked_pages': [101, 107]}, {'id': 8, 'name': 'Anjali', 'friends': [3, 4, 7, 10, 14], 'liked_pages': [103, 108]}, {'id': 9, 'name': 'Ravi', 'friends': [4, 7, 10, 11, 15], 'liked_pages': [104, 109]}, {'id': 10, 'name': 'Sneha', 'friends': [5, 8, 9, 12, 16], 'liked_pages': [110]}, {'id': 11, 'name': 'Arjun', 'friends': [5, 9, 12, 14, 17], 'liked_pages': [105, 111]}, {'id': 12, 'name': 'Meera', 'friends': [6, 10, 11, 13, 18], 'liked_pages': [112]}, {'id': 13, 'name': 'Kabir', 'friends': [7, 12, 14, 15, 19], 'liked_pages': [106, 113]}, {'id': 14, 'name': 'Tanya', 'friends': [8, 11, 13, 16, 20], 'liked_pages': [114]}, {'id': 15, 'name': 'Varun', 'friends': [9, 13, 16, 17, 21], 'liked_pages': [107, 115]}, {'id': 16, 'name': 'Rhea', 'friends': [10, 14, 15, 18, 22], 'liked_pages': [116]}, {'id': 17, 'name': 'Ishan', 'friends': [11, 15, 18, 19, 23], 'liked_pages': [108, 117]}, {'id': 18, 'name': 'Simran', 'friends': [12, 16, 17, 20, 24], 'liked_pages': [118]}, {'id': 19, 'name': 'Pooja', 'friends': [13, 17, 20, 21, 25], 'liked_pages': [109, 119]}, {'id': 20, 'name': 'Yash', 'friends': [14, 18, 19, 22, 26], 'liked_pages': [120]}, {'id': 21, 'name': 'Ananya', 'friends': [15, 19, 22, 23, 27], 'liked_pages': [110, 121]}, {'id': 22, 'name': 'Dev', 'friends': [16, 20, 21, 24, 28], 'liked_pages': [122]}, {'id': 23, 'name': 'Aditi', 'friends': [17, 21, 24, 25, 29], 'liked_pages': [111, 123]}, {'id': 24, 'name': 'Rohan', 'friends': [18, 22, 23, 26, 30], 'liked_pages': [124]}, {'id': 25, 'name': 'Nisha', 'friends': [19, 23, 26, 27, 1], 'liked_pages': [112]}, {'id': 26, 'name': 'Gautam', 'friends': [20, 24, 25, 28, 3], 'liked_pages': [125]}, {'id': 27, 'name': 'Kriti', 'friends': [21, 25, 28, 29, 5], 'liked_pages': [113]}, {'id': 28, 'name': 'Harsh', 'friends': [22, 26, 27, 30, 7], 'liked_pages': [126]}, {'id': 29, 'name': 'Naveen', 'friends': [23, 27, 30, 9, 11], 'liked_pages': [114]}, {'id': 30, 'name': 'Ishita', 'friends': [24, 28, 29, 13, 15], 'liked_pages': [127]}], 'pages': [{'id': 101, 'name': 'Python Developers'}, {'id': 102, 'name': 'Data Science Enthusiasts'}, {'id': 103, 'name': 'AI & ML Community'}, {'id': 104, 'name': 'Web Dev Hub'}, {'id': 105, 'name': 'Blockchain Innovators'}, {'id': 106, 'name': 'Cybersecurity Experts'}, {'id': 107, 'name': 'Cloud Computing Pros'}, {'id': 108, 'name': 'Competitive Programmers'}, {'id': 109, 'name': 'Startup Founders'}, {'id': 110, 'name': 'UI/UX Designers'}, {'id': 111, 'name': 'Full-Stack Developers'}, {'id': 112, 'name': 'Tech Entrepreneurs'}, {'id': 113, 'name': 'IoT Enthusiasts'}, {'id': 114, 'name': 'Game Developers'}, {'id': 115, 'name': 'Big Data Analysts'}, {'id': 116, 'name': 'DevOps Engineers'}, {'id': 117, 'name': 'Cloud AI Researchers'}, {'id': 118, 'name': '5G & Edge Computing'}, {'id': 119, 'name': 'AR/VR Creators'}, {'id': 120, 'name': 'Freelance Coders'}, {'id': 121, 'name': 'Open Source Contributors'}, {'id': 122, 'name': 'Algorithmic Traders'}, {'id': 123, 'name': 'Low-Code Developers'}, {'id': 124, 'name': 'Cyber Ethics Forum'}, {'id': 125, 'name': 'AI Ethics & Policy'}, {'id': 126, 'name': 'Digital Nomads'}, {'id': 127, 'name': 'Women in Tech'}]}\n"
     ]
    }
   ],
   "source": [
    "data = load_data('massive_data.json')\n",
    "print(data)"
   ]
  },
  {
   "cell_type": "code",
   "execution_count": 4,
   "id": "b2320d57-d870-485a-ba0e-c6256a654588",
   "metadata": {},
   "outputs": [
    {
     "name": "stdout",
     "output_type": "stream",
     "text": [
      "Users and Their Connections\n",
      "\n",
      "Amit has a friendship with ['Priya', 'Rahul', 'Sara', 'Neha', 'Vikram'] and the pages they like are ['Python Developers', 'Data Science Enthusiasts']\n",
      "Priya has a friendship with ['Amit', 'Rahul', 'Neha', 'Vikram', 'Kunal'] and the pages they like are ['Data Science Enthusiasts', 'AI & ML Community']\n",
      "Rahul has a friendship with ['Amit', 'Priya', 'Sara', 'Kunal', 'Anjali'] and the pages they like are ['Python Developers', 'AI & ML Community']\n",
      "Sara has a friendship with ['Amit', 'Rahul', 'Vikram', 'Anjali', 'Ravi'] and the pages they like are ['Web Dev Hub']\n",
      "Neha has a friendship with ['Amit', 'Priya', 'Vikram', 'Sneha', 'Arjun'] and the pages they like are ['Data Science Enthusiasts', 'Blockchain Innovators']\n",
      "Vikram has a friendship with ['Amit', 'Priya', 'Sara', 'Neha', 'Meera'] and the pages they like are ['Cybersecurity Experts']\n",
      "Kunal has a friendship with ['Priya', 'Rahul', 'Anjali', 'Ravi', 'Kabir'] and the pages they like are ['Python Developers', 'Cloud Computing Pros']\n",
      "Anjali has a friendship with ['Rahul', 'Sara', 'Kunal', 'Sneha', 'Tanya'] and the pages they like are ['AI & ML Community', 'Competitive Programmers']\n",
      "Ravi has a friendship with ['Sara', 'Kunal', 'Sneha', 'Arjun', 'Varun'] and the pages they like are ['Web Dev Hub', 'Startup Founders']\n",
      "Sneha has a friendship with ['Neha', 'Anjali', 'Ravi', 'Meera', 'Rhea'] and the pages they like are ['UI/UX Designers']\n",
      "Arjun has a friendship with ['Neha', 'Ravi', 'Meera', 'Tanya', 'Ishan'] and the pages they like are ['Blockchain Innovators', 'Full-Stack Developers']\n",
      "Meera has a friendship with ['Vikram', 'Sneha', 'Arjun', 'Kabir', 'Simran'] and the pages they like are ['Tech Entrepreneurs']\n",
      "Kabir has a friendship with ['Kunal', 'Meera', 'Tanya', 'Varun', 'Pooja'] and the pages they like are ['Cybersecurity Experts', 'IoT Enthusiasts']\n",
      "Tanya has a friendship with ['Anjali', 'Arjun', 'Kabir', 'Rhea', 'Yash'] and the pages they like are ['Game Developers']\n",
      "Varun has a friendship with ['Ravi', 'Kabir', 'Rhea', 'Ishan', 'Ananya'] and the pages they like are ['Cloud Computing Pros', 'Big Data Analysts']\n",
      "Rhea has a friendship with ['Sneha', 'Tanya', 'Varun', 'Simran', 'Dev'] and the pages they like are ['DevOps Engineers']\n",
      "Ishan has a friendship with ['Arjun', 'Varun', 'Simran', 'Pooja', 'Aditi'] and the pages they like are ['Competitive Programmers', 'Cloud AI Researchers']\n",
      "Simran has a friendship with ['Meera', 'Rhea', 'Ishan', 'Yash', 'Rohan'] and the pages they like are ['5G & Edge Computing']\n",
      "Pooja has a friendship with ['Kabir', 'Ishan', 'Yash', 'Ananya', 'Nisha'] and the pages they like are ['Startup Founders', 'AR/VR Creators']\n",
      "Yash has a friendship with ['Tanya', 'Simran', 'Pooja', 'Dev', 'Gautam'] and the pages they like are ['Freelance Coders']\n",
      "Ananya has a friendship with ['Varun', 'Pooja', 'Dev', 'Aditi', 'Kriti'] and the pages they like are ['UI/UX Designers', 'Open Source Contributors']\n",
      "Dev has a friendship with ['Rhea', 'Yash', 'Ananya', 'Rohan', 'Harsh'] and the pages they like are ['Algorithmic Traders']\n",
      "Aditi has a friendship with ['Ishan', 'Ananya', 'Rohan', 'Nisha', 'Naveen'] and the pages they like are ['Full-Stack Developers', 'Low-Code Developers']\n",
      "Rohan has a friendship with ['Simran', 'Dev', 'Aditi', 'Gautam', 'Ishita'] and the pages they like are ['Cyber Ethics Forum']\n",
      "Nisha has a friendship with ['Pooja', 'Aditi', 'Gautam', 'Kriti', 'Amit'] and the pages they like are ['Tech Entrepreneurs']\n",
      "Gautam has a friendship with ['Yash', 'Rohan', 'Nisha', 'Harsh', 'Rahul'] and the pages they like are ['AI Ethics & Policy']\n",
      "Kriti has a friendship with ['Ananya', 'Nisha', 'Harsh', 'Naveen', 'Neha'] and the pages they like are ['IoT Enthusiasts']\n",
      "Harsh has a friendship with ['Dev', 'Gautam', 'Kriti', 'Ishita', 'Kunal'] and the pages they like are ['Digital Nomads']\n",
      "Naveen has a friendship with ['Aditi', 'Kriti', 'Ishita', 'Ravi', 'Arjun'] and the pages they like are ['Game Developers']\n",
      "Ishita has a friendship with ['Rohan', 'Harsh', 'Naveen', 'Kabir', 'Varun'] and the pages they like are ['Women in Tech']\n"
     ]
    }
   ],
   "source": [
    "def display_data():\n",
    "\n",
    " # TIME COMPLEXITY O(n^3)\n",
    "    # print(\"Users and There Connection/n\")\n",
    "    # for i in  range(0,len(data['users'])):\n",
    "        \n",
    "    #     for j  in range(0,len(data['users'])):\n",
    "    #         for k in range(0, len(data['users'][i]['friends'])):\n",
    "    #            if(data['users'][i]['friends'][k] ==data['users'][j]['id'] ):\n",
    "    #                data['users'][i]['friends'][k] =data['users'][j]['name']\n",
    "    \n",
    "    # for i in  range(0,len(data['users'])):\n",
    "    #      for j in range(0,len(data['pages'])):\n",
    "    #          for k in range(0, len(data['users'][i]['liked_pages'])):\n",
    "    #              if(data['users'][i]['liked_pages'][k] ==data['pages'][j]['id'] ):\n",
    "    #                  data['users'][i]['liked_pages'][k] =data['pages'][j]['name']\n",
    "             \n",
    "        \n",
    "    # for  user in (data['users']):\n",
    "    #     print(f\"{user['name']} has a friendship with {user['friends']} and the pages he likes are {user['liked_pages']} \")\n",
    "\n",
    "\n",
    "# OPTIMIZE CODE \n",
    "\n",
    "    user_dict = {user['id']: user['name'] for user in data['users']}\n",
    "    page_dict = {page['id']: page['name'] for page in data['pages']}\n",
    "\n",
    "  \n",
    "    for user in data['users']:\n",
    "  \n",
    "        friendsName = []\n",
    "        for friend_id in user['friends']:\n",
    "         \n",
    "            if(friend_id in user_dict):\n",
    "          \n",
    "                friendsName.append(user_dict[friend_id])\n",
    "       \n",
    "                \n",
    "        \n",
    "        user['friends'] = friendsName\n",
    "\n",
    "        pagessName = []\n",
    "        for page_id in user['liked_pages']:\n",
    "            if(page_id in page_dict):\n",
    "                pagessName.append(page_dict[page_id])\n",
    "        user['liked_pages'] = pagessName\n",
    "        \n",
    "      \n",
    "    \n",
    "    print(\"Users and Their Connections\\n\")\n",
    "\n",
    "    for user in data['users']:\n",
    "        print(f\"{user['name']} has a friendship with {user['friends']} and the pages they like are {user['liked_pages']}\")\n",
    "\n",
    "\n",
    "\n",
    "display_data()"
   ]
  },
  {
   "cell_type": "code",
   "execution_count": null,
   "id": "ceb22270-3b77-497f-acdd-ea69994b787d",
   "metadata": {},
   "outputs": [],
   "source": []
  }
 ],
 "metadata": {
  "kernelspec": {
   "display_name": "Python 3 (ipykernel)",
   "language": "python",
   "name": "python3"
  },
  "language_info": {
   "codemirror_mode": {
    "name": "ipython",
    "version": 3
   },
   "file_extension": ".py",
   "mimetype": "text/x-python",
   "name": "python",
   "nbconvert_exporter": "python",
   "pygments_lexer": "ipython3",
   "version": "3.13.2"
  }
 },
 "nbformat": 4,
 "nbformat_minor": 5
}
