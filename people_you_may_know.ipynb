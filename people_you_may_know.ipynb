{
 "cells": [
  {
   "cell_type": "markdown",
   "id": "d17e9ac3-9ea3-4aaa-9df2-137c492afd41",
   "metadata": {},
   "source": [
    "**we will suggest the people that user might know**"
   ]
  },
  {
   "cell_type": "code",
   "execution_count": 34,
   "id": "3d5c0644-6325-4aec-a4e5-dc37567e7253",
   "metadata": {},
   "outputs": [],
   "source": [
    "import json\n",
    "from collections import Counter"
   ]
  },
  {
   "cell_type": "code",
   "execution_count": 36,
   "id": "74acdde5-e7ca-4158-90d3-4e583d7cc6b6",
   "metadata": {},
   "outputs": [
    {
     "name": "stdout",
     "output_type": "stream",
     "text": [
      "[7, 8, 9, 10, 11, 12] ['Kunal', 'Anjali', 'Ravi', 'Sneha', 'Arjun', 'Meera']\n"
     ]
    }
   ],
   "source": [
    "# function to load data\n",
    "def load_data(filename):\n",
    "    with open(filename , 'r') as f:\n",
    "        data = json.load(f)\n",
    "    return data\n",
    "\n",
    "def find_people_you_may_know(user_id , data):\n",
    "    friends = {user['id']: set(user['friends']) for user in data['users']}\n",
    "\n",
    "    if user_id not in friends:\n",
    "        return []\n",
    "\n",
    "    direct_friends = friends[user_id]\n",
    "    suggested_friends = Counter()\n",
    "    for friend in direct_friends:\n",
    "        for mutual in friends[friend]:\n",
    "            if mutual !=user_id and mutual not in direct_friends:\n",
    "                suggested_friends[mutual] +=1   \n",
    "            \n",
    "           \n",
    "        \n",
    "    return [user_id for user_id, _ in suggested_friends.most_common()]\n",
    "\n",
    "def display_data(data , recommended_ids):  \n",
    "   # Create lookup dictionary for user IDs to names\n",
    "    user_dict = {user['id']: user['name'] for user in data['users']}\n",
    "    \n",
    "   \n",
    "    return [user_dict[user_id] for user_id in recommended_ids if user_id in user_dict]\n",
    "  \n",
    "\n",
    "\n",
    "\n",
    "\n",
    "data = load_data(\"massive_data.json\")\n",
    "user_id = 1\n",
    "\n",
    "recommeded_people = find_people_you_may_know(user_id , data)\n",
    "names = display_data(data,recommeded_people)\n",
    "print(recommeded_people,names)"
   ]
  },
  {
   "cell_type": "code",
   "execution_count": null,
   "id": "b63f43a5-6fe9-456f-985e-4f7fc845f135",
   "metadata": {},
   "outputs": [],
   "source": []
  }
 ],
 "metadata": {
  "kernelspec": {
   "display_name": "Python 3 (ipykernel)",
   "language": "python",
   "name": "python3"
  },
  "language_info": {
   "codemirror_mode": {
    "name": "ipython",
    "version": 3
   },
   "file_extension": ".py",
   "mimetype": "text/x-python",
   "name": "python",
   "nbconvert_exporter": "python",
   "pygments_lexer": "ipython3",
   "version": "3.13.2"
  }
 },
 "nbformat": 4,
 "nbformat_minor": 5
}
