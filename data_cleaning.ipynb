{
 "cells": [
  {
   "cell_type": "markdown",
   "id": "e68a4356-73ac-4c0e-b791-f11aebbeeed4",
   "metadata": {},
   "source": [
    "**Clean the data**"
   ]
  },
  {
   "cell_type": "code",
   "execution_count": 1,
   "id": "30f2fc73-aebb-4f74-a6e3-4280f668adb6",
   "metadata": {},
   "outputs": [],
   "source": [
    "import json"
   ]
  },
  {
   "cell_type": "code",
   "execution_count": 2,
   "id": "21b6d717-f330-447a-b9d0-580a43d146e5",
   "metadata": {},
   "outputs": [],
   "source": [
    "# function to load data\n",
    "def load_data(filename):\n",
    "    with open(filename , 'r') as f:\n",
    "        data = json.load(f)\n",
    "    return data"
   ]
  },
  {
   "cell_type": "code",
   "execution_count": 3,
   "id": "2c91dae0-1966-4574-8734-0d57b86048cd",
   "metadata": {},
   "outputs": [],
   "source": [
    "data = load_data('messy_data.json')\n"
   ]
  },
  {
   "cell_type": "code",
   "execution_count": 4,
   "id": "216bff0c-54cd-4ffa-b1d9-5b5b1dc5f5d9",
   "metadata": {},
   "outputs": [
    {
     "name": "stdout",
     "output_type": "stream",
     "text": [
      "{'users': [{'id': 1, 'name': 'Amit', 'friends': [2, 3], 'liked_pages': [101]}, {'id': 2, 'name': 'Priya', 'friends': [1, 4], 'liked_pages': [102]}, {'id': 3, 'name': '', 'friends': [1], 'liked_pages': [101, 103]}, {'id': 4, 'name': 'Sara', 'friends': [2, 2], 'liked_pages': [104]}, {'id': 5, 'name': 'Amit', 'friends': [], 'liked_pages': []}], 'pages': [{'id': 101, 'name': 'Python Developers'}, {'id': 102, 'name': 'Data Science Enthusiasts'}, {'id': 103, 'name': 'AI & ML Community'}, {'id': 104, 'name': 'Web Dev Hub'}, {'id': 104, 'name': 'Web Development'}]}\n"
     ]
    }
   ],
   "source": [
    "print(data)"
   ]
  },
  {
   "cell_type": "code",
   "execution_count": 7,
   "id": "eca3007b-1206-46ec-9147-338c47d31a5f",
   "metadata": {},
   "outputs": [],
   "source": [
    "def clean_data(data):\n",
    "\n",
    "    # remove user that dont have a name\n",
    "    data['users'] = [user for user in data['users'] if user['name'].strip()]\n",
    "    \n",
    "    # remove duplicate entries from friends Array\n",
    "    for user in data['users']:\n",
    "        user['friends'] = list(set(user['friends']))\n",
    "\n",
    "    # remove all the fields which have no friends and no like pages\n",
    "    \n",
    "    data ['users'] = [user for user in data['users'] if user['friends'] or user['liked_pages']] \n",
    "\n",
    "    # remove all the duplicate ids\n",
    "    page_dict={}\n",
    "    for page in data['pages']:\n",
    "          page_dict[page['id']]=page \n",
    "    \n",
    "     \n",
    "    data['pages'] = list(page_dict.values())\n",
    "    return data\n",
    "\n",
    "\n"
   ]
  },
  {
   "cell_type": "code",
   "execution_count": 8,
   "id": "2e6aa87e-ba3b-418c-8e44-52df38b584d0",
   "metadata": {},
   "outputs": [
    {
     "name": "stdout",
     "output_type": "stream",
     "text": [
      "{'users': [{'id': 1, 'name': 'Amit', 'friends': [2, 3], 'liked_pages': [101]}, {'id': 2, 'name': 'Priya', 'friends': [1, 4], 'liked_pages': [102]}, {'id': 4, 'name': 'Sara', 'friends': [2], 'liked_pages': [104]}], 'pages': [{'id': 101, 'name': 'Python Developers'}, {'id': 102, 'name': 'Data Science Enthusiasts'}, {'id': 103, 'name': 'AI & ML Community'}, {'id': 104, 'name': 'Web Development'}]}\n"
     ]
    }
   ],
   "source": [
    "cleaned_data  = clean_data(data)\n",
    "print(cleaned_data)\n",
    "json.dump(cleaned_data, open('cleanData.json','w'))\n"
   ]
  },
  {
   "cell_type": "code",
   "execution_count": null,
   "id": "a81fa35f-d0e9-4873-a519-740f23bd262b",
   "metadata": {},
   "outputs": [],
   "source": []
  }
 ],
 "metadata": {
  "kernelspec": {
   "display_name": "Python 3 (ipykernel)",
   "language": "python",
   "name": "python3"
  },
  "language_info": {
   "codemirror_mode": {
    "name": "ipython",
    "version": 3
   },
   "file_extension": ".py",
   "mimetype": "text/x-python",
   "name": "python",
   "nbconvert_exporter": "python",
   "pygments_lexer": "ipython3",
   "version": "3.13.2"
  }
 },
 "nbformat": 4,
 "nbformat_minor": 5
}
